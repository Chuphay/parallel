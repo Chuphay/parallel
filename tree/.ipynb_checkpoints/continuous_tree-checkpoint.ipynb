{
 "metadata": {
  "name": "",
  "signature": "sha256:5ae6fe1113d239fbdfc29472f44df92885038ade0dabf1961bb69f9eac8f1e76"
 },
 "nbformat": 3,
 "nbformat_minor": 0,
 "worksheets": [
  {
   "cells": [
    {
     "cell_type": "code",
     "collapsed": false,
     "input": [
      "%pylab inline"
     ],
     "language": "python",
     "metadata": {},
     "outputs": [
      {
       "output_type": "stream",
       "stream": "stdout",
       "text": [
        "Populating the interactive namespace from numpy and matplotlib\n"
       ]
      }
     ],
     "prompt_number": 1
    },
    {
     "cell_type": "code",
     "collapsed": false,
     "input": [
      "import collections #http://stackoverflow.com/questions/3009935/looking-for-a-good-python-tree-data-structure\n",
      "\n",
      "def Tree():\n",
      "    return collections.defaultdict(Tree)\n",
      "\n",
      "t = Tree()\n",
      "t[0] = {'name':'root', 'value':0}\n",
      "t[1][0] = {'name':'node?', 'value':0}\n",
      "t[1][1] = 'another node'\n",
      "t[1][2] = 'still another'\n",
      "t"
     ],
     "language": "python",
     "metadata": {},
     "outputs": [
      {
       "metadata": {},
       "output_type": "pyout",
       "prompt_number": 104,
       "text": [
        "defaultdict(<function Tree at 0xb0aafe3c>, {0: {'value': 0, 'name': 'root'}, 1: defaultdict(<function Tree at 0xb0aafe3c>, {0: {'value': 0, 'name': 'node?'}, 1: 'another node', 2: 'still another'})})"
       ]
      }
     ],
     "prompt_number": 104
    },
    {
     "cell_type": "code",
     "collapsed": false,
     "input": [
      "NUM = 21\n",
      "seed(123)\n",
      "data = rand(NUM)\n",
      "target = zeros(NUM)\n",
      "for i, val in enumerate(data):\n",
      "    if(val>0.29):\n",
      "        target[i] = 1\n",
      "        \n",
      "def bool_entropy(q):\n",
      "    if((q == 0) or (q == 1)): \n",
      "        return 0\n",
      "    else:\n",
      "        return -(q*log2(q) + (1-q)*log2(1-q))        \n",
      "        \n",
      "def decision(data, target, bins = 5):\n",
      "    length = len(target)\n",
      "    assert(length == len(data))\n",
      "\n",
      "\n",
      "    if((sum(target) == 0) or (sum(target) == length)):\n",
      "        print(\"classified\")\n",
      "        return(target[0], 0)\n",
      "    elif(length == 0):\n",
      "        print(\"length is zero!\")\n",
      "    else:\n",
      "        stride = int(length/bins)\n",
      "        print(\"stride\",stride)\n",
      "    \n",
      "        out = int(length/2)\n",
      "        biggest = 0\n",
      "        for i in range(bins):\n",
      "            if(i<bins-1):\n",
      "                q = sum(target[stride*i:stride*(i+1)])/stride\n",
      "                #print(q)\n",
      "                if(bool_entropy(q)>biggest):\n",
      "                    biggest = bool_entropy(q)\n",
      "                    out = stride*i\n",
      "            else:\n",
      "                q = sum(target[stride*i:])/len(target[stride*i:])\n",
      "                #print(q)\n",
      "                if(bool_entropy(q)>biggest):\n",
      "                    biggest = bool_entropy(q)\n",
      "                    out = stride*i\n",
      "        \n",
      "        return (sum(target)/length, out)        \n",
      "\n",
      "def decision_tree(data, target, tree, bins = 5, depth = 0, up = 0):\n",
      "    assert(len(data) == len(target))\n",
      "    print('length',len(data),'depth', depth)\n",
      "    if(len(data)>0):\n",
      "        data, target = zip(*sorted(zip(data, target)))\n",
      "\n",
      "        out, split = decision(data, target, bins)\n",
      "        print(out, split)\n",
      "        tree[depth][up] = {'out':out, 'split':data[split]}\n",
      "        print(out, split, data[split])\n",
      "        if(((out != 0) or (out != 1)) and depth<4):\n",
      "            decision_tree(data[split:], target[split:], tree, bins, depth+1, 0)\n",
      "            decision_tree(data[:split], target[:split], tree, bins, depth+1, 1)\n",
      "\n",
      "\n",
      "        return t\n",
      "    else:\n",
      "        print('no data')\n",
      "\n",
      "t = Tree()       \n",
      "decision_tree(data, target, t)    "
     ],
     "language": "python",
     "metadata": {},
     "outputs": [
      {
       "output_type": "stream",
       "stream": "stdout",
       "text": [
        "length 21 depth 0\n",
        "stride 4\n",
        "0.761904761905 4\n",
        "0.761904761905 4 0.28613933495\n",
        "length 17 depth 1\n",
        "stride 3\n",
        "0.941176470588 0\n",
        "0.941176470588 0 0.28613933495\n",
        "length 17 depth 2\n",
        "stride 3\n",
        "0.941176470588 0\n",
        "0.941176470588 0 0.28613933495\n",
        "length 17 depth 3\n",
        "stride 3\n",
        "0.941176470588 0\n",
        "0.941176470588 0 0.28613933495\n",
        "length 17 depth 4\n",
        "stride 3\n",
        "0.941176470588 0\n",
        "0.941176470588 0 0.28613933495\n",
        "length 0 depth 4\n",
        "no data\n",
        "length 0 depth 3\n",
        "no data\n",
        "length 0 depth 2\n",
        "no data\n",
        "length 4 depth 1\n",
        "classified\n",
        "0.0 0\n",
        "0.0 0 0.0596778966096\n",
        "length 4 depth 2\n",
        "classified\n",
        "0.0 0\n",
        "0.0 0 0.0596778966096\n",
        "length 4 depth 3\n",
        "classified\n",
        "0.0 0\n",
        "0.0 0 0.0596778966096\n",
        "length 4 depth 4\n",
        "classified\n",
        "0.0 0\n",
        "0.0 0 0.0596778966096\n",
        "length 0 depth 4\n",
        "no data\n",
        "length 0 depth 3\n",
        "no data\n",
        "length 0 depth 2\n",
        "no data\n"
       ]
      },
      {
       "metadata": {},
       "output_type": "pyout",
       "prompt_number": 130,
       "text": [
        "defaultdict(<function Tree at 0xb0aafe3c>, {0: defaultdict(<function Tree at 0xb0aafe3c>, {0: {'split': 0.28613933495037946, 'out': 0.76190476190476186}}), 1: defaultdict(<function Tree at 0xb0aafe3c>, {0: {'split': 0.28613933495037946, 'out': 0.94117647058823528}, 1: {'split': 0.059677896609568348, 'out': 0.0}}), 2: defaultdict(<function Tree at 0xb0aafe3c>, {0: {'split': 0.059677896609568348, 'out': 0.0}}), 3: defaultdict(<function Tree at 0xb0aafe3c>, {0: {'split': 0.059677896609568348, 'out': 0.0}}), 4: defaultdict(<function Tree at 0xb0aafe3c>, {0: {'split': 0.059677896609568348, 'out': 0.0}})})"
       ]
      }
     ],
     "prompt_number": 130
    },
    {
     "cell_type": "code",
     "collapsed": false,
     "input": [],
     "language": "python",
     "metadata": {},
     "outputs": [],
     "prompt_number": 123
    },
    {
     "cell_type": "code",
     "collapsed": false,
     "input": [],
     "language": "python",
     "metadata": {},
     "outputs": []
    }
   ],
   "metadata": {}
  }
 ]
}