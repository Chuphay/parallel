{
 "metadata": {
  "name": "",
  "signature": "sha256:f57a0222a8e94363180037a60d2bfdb6cbdbee615a4aab6ac4047718a32027e1"
 },
 "nbformat": 3,
 "nbformat_minor": 0,
 "worksheets": [
  {
   "cells": [
    {
     "cell_type": "code",
     "collapsed": false,
     "input": [
      "%pylab inline\n",
      "from make_data import *"
     ],
     "language": "python",
     "metadata": {},
     "outputs": [
      {
       "output_type": "stream",
       "stream": "stdout",
       "text": [
        "Populating the interactive namespace from numpy and matplotlib\n"
       ]
      }
     ],
     "prompt_number": 1
    },
    {
     "cell_type": "code",
     "collapsed": false,
     "input": [
      "#http://nbviewer.ipython.org/github/ledeprogram/courses/blob/master/algorithms/10-networkx-fun.ipynb\n",
      "\"\"\"\n",
      "Load football network in GML format and compute some network statistcs.\n",
      "\n",
      "Shows how to download GML graph in a zipped file, unpack it, and load\n",
      "into a NetworkX graph.\n",
      "\n",
      "Requires Internet connection to download the URL\n",
      "http://www-personal.umich.edu/~mejn/netdata/football.zip\n",
      "\n",
      "\"\"\"\n",
      "__author__ = \"\"\"Aric Hagberg (hagberg@lanl.gov)\"\"\"\n",
      "#    Copyright (C) 2007 by \n",
      "#    Aric Hagberg <hagberg@lanl.gov>\n",
      "#    Dan Schult <dschult@colgate.edu>\n",
      "#    Pieter Swart <swart@lanl.gov>\n",
      "#    All rights reserved.\n",
      "#    BSD license.\n",
      "\n",
      "try:\n",
      "    import pyparsing\n",
      "except ImportError as e:\n",
      "    raise ImportError(str(e)+\". Check http://pyparsing.wikispaces.com/\")\n",
      "    \n",
      "from networkx import *\n",
      "\n",
      "url=\"http://www-personal.umich.edu/~mejn/netdata/football.zip\"\n",
      "\n",
      "try: # Python 3.x\n",
      "    import urllib.request as urllib\n",
      "except ImportError: # Python 2.x\n",
      "    import urllib\n",
      "import io\n",
      "import zipfile\n",
      "\n",
      "sock = urllib.urlopen(url)  # open URL\n",
      "s=io.BytesIO(sock.read()) # read into BytesIO \"file\"\n",
      "sock.close()\n",
      "\n",
      "zf = zipfile.ZipFile(s) # zipfile object\n",
      "txt=zf.read('football.txt').decode() # read info file\n",
      "gml=zf.read('football.gml').decode() # read gml data\n",
      "# throw away bogus first line with # from mejn files\n",
      "gml=gml.split('\\n')[1:]\n",
      "G=parse_gml(gml) # parse gml data\n",
      "\n",
      "print(txt)\n",
      "# print degree for each team - number of games\n",
      "for n,d in G.degree_iter():\n",
      "    #print('%s %d' % (n, d))\n",
      "    pass"
     ],
     "language": "python",
     "metadata": {},
     "outputs": [
      {
       "output_type": "stream",
       "stream": "stdout",
       "text": [
        "The file football.gml contains the network of American football games\n",
        "between Division IA colleges during regular season Fall 2000, as compiled\n",
        "by M. Girvan and M. Newman.  The nodes have values that indicate to which\n",
        "conferences they belong.  The values are as follows:\n",
        "\n",
        "  0 = Atlantic Coast\n",
        "  1 = Big East\n",
        "  2 = Big Ten\n",
        "  3 = Big Twelve\n",
        "  4 = Conference USA\n",
        "  5 = Independents\n",
        "  6 = Mid-American\n",
        "  7 = Mountain West\n",
        "  8 = Pacific Ten\n",
        "  9 = Southeastern\n",
        " 10 = Sun Belt\n",
        " 11 = Western Athletic\n",
        "\n",
        "If you make use of these data, please cite M. Girvan and M. E. J. Newman,\n",
        "Community structure in social and biological networks,\n",
        "Proc. Natl. Acad. Sci. USA 99, 7821-7826 (2002).\n",
        "\n",
        "Correction: Two edges were erroneously duplicated in this data set, and\n",
        "have been removed (21 SEP 2014)\n",
        "\n"
       ]
      }
     ],
     "prompt_number": 9
    },
    {
     "cell_type": "code",
     "collapsed": false,
     "input": [
      "nodes = G.nodes()\n",
      "G.edges()[:11]"
     ],
     "language": "python",
     "metadata": {},
     "outputs": [
      {
       "metadata": {},
       "output_type": "pyout",
       "prompt_number": 21,
       "text": [
        "[('Army', 'Cincinnati'),\n",
        " ('Army', 'AlabamaBirmingham'),\n",
        " ('Army', 'Houston'),\n",
        " ('Army', 'Louisville'),\n",
        " ('Army', 'Memphis'),\n",
        " ('Army', 'Navy'),\n",
        " ('Army', 'NewMexicoState'),\n",
        " ('Army', 'EastCarolina'),\n",
        " ('Army', 'AirForce'),\n",
        " ('Army', 'BostonCollege'),\n",
        " ('Army', 'Tulane')]"
       ]
      }
     ],
     "prompt_number": 21
    },
    {
     "cell_type": "code",
     "collapsed": false,
     "input": [
      "nodes.index(G.edges()[0][0])\n",
      "#nodes.index(\"KansasState\")"
     ],
     "language": "python",
     "metadata": {},
     "outputs": [
      {
       "metadata": {},
       "output_type": "pyout",
       "prompt_number": 33,
       "text": [
        "59"
       ]
      }
     ],
     "prompt_number": 33
    },
    {
     "cell_type": "code",
     "collapsed": false,
     "input": [
      "kan = G.edge[\"KansasState\"]\n",
      "for i in kan.keys():\n",
      "    print (i)"
     ],
     "language": "python",
     "metadata": {},
     "outputs": [
      {
       "output_type": "stream",
       "stream": "stdout",
       "text": [
        "Missouri\n",
        "TexasA&M\n",
        "NorthTexas\n",
        "Oklahoma\n",
        "Iowa\n",
        "TexasTech\n",
        "Nebraska\n",
        "BallState\n",
        "Kansas\n",
        "IowaState\n",
        "Colorado\n",
        "LouisianaTech\n"
       ]
      }
     ],
     "prompt_number": 49
    },
    {
     "cell_type": "code",
     "collapsed": false,
     "input": [
      "N = 0\n",
      "k = 0\n",
      "print(G.edges()[57])\n",
      "for n,d in G.degree_iter():\n",
      "    #print('%s %d' % (n, d))\n",
      "    N = N + 1\n",
      "    #print(d)\n",
      "    if(d>k):\n",
      "        k = d\n",
      "    \n",
      "    \n",
      "print(\"N\",N)\n",
      "print(\"k\",k)\n",
      "f = open(\"football.data\", 'w')\n",
      "f.write(\"{0} {1}\\n\".format(N,k))\n",
      "for i, name in enumerate(nodes):\n",
      "\n",
      "    f.write(\"{0}\".format(str(i)))\n",
      "    kan = G.edge[name]\n",
      "    for j in kan.keys():\n",
      "\n",
      "        f.write(\" {0}\".format(str(nodes.index(j))))\n",
      "    f.write(\"\\n\")\n",
      "\n",
      "f.close()\n",
      "\n"
     ],
     "language": "python",
     "metadata": {},
     "outputs": [
      {
       "output_type": "stream",
       "stream": "stdout",
       "text": [
        "('SouthCarolina', 'Kentucky')\n",
        "N 115\n",
        "k 12\n"
       ]
      }
     ],
     "prompt_number": 57
    },
    {
     "cell_type": "code",
     "collapsed": false,
     "input": [],
     "language": "python",
     "metadata": {},
     "outputs": []
    }
   ],
   "metadata": {}
  }
 ]
}