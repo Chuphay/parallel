{
 "metadata": {
  "name": "",
  "signature": "sha256:b58c8d9d4beea7be4696e58dc0cbc955daca9fb0d3ae91d5294ff24dbd8046dc"
 },
 "nbformat": 3,
 "nbformat_minor": 0,
 "worksheets": [
  {
   "cells": [
    {
     "cell_type": "code",
     "collapsed": false,
     "input": [
      "%pylab inline\n",
      "from pandas import DataFrame"
     ],
     "language": "python",
     "metadata": {},
     "outputs": [
      {
       "output_type": "stream",
       "stream": "stdout",
       "text": [
        "Populating the interactive namespace from numpy and matplotlib\n"
       ]
      }
     ],
     "prompt_number": 1
    },
    {
     "cell_type": "code",
     "collapsed": false,
     "input": [
      "def parser(line):\n",
      "    info = []\n",
      "\n",
      "    info = line.split(',')[:10]\n",
      "    for e,i in enumerate(info):\n",
      "        info[e] = float(i)            \n",
      "    return info            \n",
      "    \n",
      "\n",
      "file_name = 'n_{0}.txt'\n",
      "amount = ['2000', '4000', '8000','16000','32000']\n",
      "all_data ={}\n",
      "\n",
      "for i in range(5):\n",
      "    my_file = file_name.format(amount[i])\n",
      "    f = open(my_file)\n",
      "    data = {}\n",
      "    previous_line =''\n",
      "    for line in f:\n",
      "        #print(line)\n",
      "        if(previous_line == 'system\\n'):\n",
      "            data['system'] = parser(line)\n",
      "        if(previous_line == 'user\\n'):       \n",
      "            data['user'] = parser(line)\n",
      "        if(previous_line == 'elapsed\\n'):     \n",
      "            data['elapsed'] = parser(line)\n",
      "        previous_line = line    \n",
      "\n",
      "    all_data[my_file] = data\n",
      "my_data = DataFrame(all_data)"
     ],
     "language": "python",
     "metadata": {},
     "outputs": [],
     "prompt_number": 7
    },
    {
     "cell_type": "code",
     "collapsed": false,
     "input": [
      "my_data.T"
     ],
     "language": "python",
     "metadata": {},
     "outputs": [
      {
       "html": [
        "<div style=\"max-height:1000px;max-width:1500px;overflow:auto;\">\n",
        "<table border=\"1\" class=\"dataframe\">\n",
        "  <thead>\n",
        "    <tr style=\"text-align: right;\">\n",
        "      <th></th>\n",
        "      <th>elapsed</th>\n",
        "      <th>system</th>\n",
        "      <th>user</th>\n",
        "    </tr>\n",
        "  </thead>\n",
        "  <tbody>\n",
        "    <tr>\n",
        "      <th>n_16000.txt</th>\n",
        "      <td> [0.13, 0.13, 0.13, 0.13, 0.13, 0.13, 0.13, 0.1...</td>\n",
        "      <td> [0.0, 0.0, 0.0, 0.0, 0.0, 0.0, 0.0, 0.0, 0.0, ...</td>\n",
        "      <td> [0.12, 0.12, 0.13, 0.12, 0.12, 0.13, 0.13, 0.1...</td>\n",
        "    </tr>\n",
        "    <tr>\n",
        "      <th>n_2000.txt</th>\n",
        "      <td> [0.01, 0.02, 0.01, 0.01, 0.01, 0.01, 0.01, 0.0...</td>\n",
        "      <td> [0.0, 0.0, 0.0, 0.0, 0.0, 0.0, 0.0, 0.0, 0.0, ...</td>\n",
        "      <td> [0.01, 0.02, 0.01, 0.01, 0.01, 0.01, 0.01, 0.0...</td>\n",
        "    </tr>\n",
        "    <tr>\n",
        "      <th>n_32000.txt</th>\n",
        "      <td> [0.26, 0.27, 0.27, 0.27, 0.27, 0.28, 0.26, 0.2...</td>\n",
        "      <td> [0.0, 0.0, 0.01, 0.0, 0.01, 0.0, 0.01, 0.0, 0....</td>\n",
        "      <td> [0.26, 0.26, 0.26, 0.27, 0.26, 0.27, 0.25, 0.2...</td>\n",
        "    </tr>\n",
        "    <tr>\n",
        "      <th>n_4000.txt</th>\n",
        "      <td> [0.03, 0.03, 0.03, 0.03, 0.03, 0.03, 0.03, 0.0...</td>\n",
        "      <td> [0.0, 0.0, 0.0, 0.0, 0.0, 0.0, 0.0, 0.0, 0.0, ...</td>\n",
        "      <td> [0.03, 0.03, 0.03, 0.03, 0.03, 0.03, 0.03, 0.0...</td>\n",
        "    </tr>\n",
        "    <tr>\n",
        "      <th>n_8000.txt</th>\n",
        "      <td> [0.06, 0.06, 0.06, 0.06, 0.07, 0.06, 0.06, 0.0...</td>\n",
        "      <td> [0.0, 0.0, 0.0, 0.0, 0.0, 0.0, 0.0, 0.0, 0.0, ...</td>\n",
        "      <td> [0.06, 0.06, 0.06, 0.06, 0.06, 0.06, 0.06, 0.0...</td>\n",
        "    </tr>\n",
        "  </tbody>\n",
        "</table>\n",
        "</div>"
       ],
       "metadata": {},
       "output_type": "pyout",
       "prompt_number": 8,
       "text": [
        "                                                       elapsed  \\\n",
        "n_16000.txt  [0.13, 0.13, 0.13, 0.13, 0.13, 0.13, 0.13, 0.1...   \n",
        "n_2000.txt   [0.01, 0.02, 0.01, 0.01, 0.01, 0.01, 0.01, 0.0...   \n",
        "n_32000.txt  [0.26, 0.27, 0.27, 0.27, 0.27, 0.28, 0.26, 0.2...   \n",
        "n_4000.txt   [0.03, 0.03, 0.03, 0.03, 0.03, 0.03, 0.03, 0.0...   \n",
        "n_8000.txt   [0.06, 0.06, 0.06, 0.06, 0.07, 0.06, 0.06, 0.0...   \n",
        "\n",
        "                                                        system  \\\n",
        "n_16000.txt  [0.0, 0.0, 0.0, 0.0, 0.0, 0.0, 0.0, 0.0, 0.0, ...   \n",
        "n_2000.txt   [0.0, 0.0, 0.0, 0.0, 0.0, 0.0, 0.0, 0.0, 0.0, ...   \n",
        "n_32000.txt  [0.0, 0.0, 0.01, 0.0, 0.01, 0.0, 0.01, 0.0, 0....   \n",
        "n_4000.txt   [0.0, 0.0, 0.0, 0.0, 0.0, 0.0, 0.0, 0.0, 0.0, ...   \n",
        "n_8000.txt   [0.0, 0.0, 0.0, 0.0, 0.0, 0.0, 0.0, 0.0, 0.0, ...   \n",
        "\n",
        "                                                          user  \n",
        "n_16000.txt  [0.12, 0.12, 0.13, 0.12, 0.12, 0.13, 0.13, 0.1...  \n",
        "n_2000.txt   [0.01, 0.02, 0.01, 0.01, 0.01, 0.01, 0.01, 0.0...  \n",
        "n_32000.txt  [0.26, 0.26, 0.26, 0.27, 0.26, 0.27, 0.25, 0.2...  \n",
        "n_4000.txt   [0.03, 0.03, 0.03, 0.03, 0.03, 0.03, 0.03, 0.0...  \n",
        "n_8000.txt   [0.06, 0.06, 0.06, 0.06, 0.06, 0.06, 0.06, 0.0...  "
       ]
      }
     ],
     "prompt_number": 8
    },
    {
     "cell_type": "code",
     "collapsed": false,
     "input": [
      "data  = my_data.T['elapsed']\n",
      "x = sorted([sum(i)/10 for i in data])\n",
      "plot(array([2000,4000,8000,16000,32000]),x);"
     ],
     "language": "python",
     "metadata": {},
     "outputs": [
      {
       "metadata": {},
       "output_type": "display_data",
       "png": "[encoded data removed]",
       "text": [
        "<matplotlib.figure.Figure at 0xad9c072c>"
       ]
      }
     ],
     "prompt_number": 25
    },
    {
     "cell_type": "code",
     "collapsed": false,
     "input": [],
     "language": "python",
     "metadata": {},
     "outputs": []
    }
   ],
   "metadata": {}
  }
 ]
}