{
 "cells": [
  {
   "cell_type": "code",
   "execution_count": 2,
   "metadata": {
    "collapsed": false
   },
   "outputs": [
    {
     "data": {
      "text/plain": [
       "[1, 3, 6, 10]"
      ]
     },
     "execution_count": 2,
     "metadata": {},
     "output_type": "execute_result"
    }
   ],
   "source": [
    "def myPlus(a,b):\n",
    "    return a + b\n",
    "\n",
    "def simpleScan(array, op, start):\n",
    "    array[0] = op(array[0], start)\n",
    "    for i in range(len(array)-1):\n",
    "        array[i+1] = op(array[i+1], array[i])\n",
    "    return array\n",
    "\n",
    "simpleScan([1,2,3,4], myPlus, 0)    "
   ]
  },
  {
   "cell_type": "code",
   "execution_count": 3,
   "metadata": {
    "collapsed": false
   },
   "outputs": [
    {
     "data": {
      "text/plain": [
       "[3, 3, 3, 4, 9]"
      ]
     },
     "execution_count": 3,
     "metadata": {},
     "output_type": "execute_result"
    }
   ],
   "source": [
    "def myMax(a,b):\n",
    "    if(a>b):\n",
    "        return a\n",
    "    else:\n",
    "        return b\n",
    "    \n",
    "simpleScan([3,2,1,4,9], myMax, 0)    "
   ]
  },
  {
   "cell_type": "code",
   "execution_count": 29,
   "metadata": {
    "collapsed": false
   },
   "outputs": [
    {
     "data": {
      "text/plain": [
       "[0, 3, 3, 3, 4]"
      ]
     },
     "execution_count": 29,
     "metadata": {},
     "output_type": "execute_result"
    }
   ],
   "source": [
    "def exclusiveScan(array, op, start):\n",
    "    temp, array[0] = array[0], start\n",
    "    for i in range(1, len(array)):\n",
    "        array[i], temp = temp, array[i]\n",
    "        temp = op(array[i], temp)    \n",
    "    return array\n",
    "    \n",
    "exclusiveScan([3,2,1,4,9], myMax, 0)     "
   ]
  },
  {
   "cell_type": "code",
   "execution_count": 55,
   "metadata": {
    "collapsed": false
   },
   "outputs": [
    {
     "data": {
      "text/plain": [
       "[1, 3, 6, 10, 15, 21, 28, 36, 45, 55]"
      ]
     },
     "execution_count": 55,
     "metadata": {},
     "output_type": "execute_result"
    }
   ],
   "source": [
    "def hilliSteele(array, op, start):\n",
    "    \"\"\"Inclusive scan\"\"\"\n",
    "    n = len(array)\n",
    "    s = 0\n",
    "    out = array[:]\n",
    "    shift = 1<<s\n",
    "    while(shift< n):\n",
    "        shift = 1<<s\n",
    "        for thread in range(n):\n",
    "            if(thread<shift):\n",
    "                out[thread] = array[thread]\n",
    "            else:    \n",
    "                out[thread] = op(array[thread], array[thread-shift]) \n",
    "                \n",
    "        array = out[:] \n",
    "        s += 1\n",
    "        shift = 1<<s \n",
    "    return array      \n",
    "    \n",
    "hilliSteele(list(range(1,11)), myPlus, 0)    "
   ]
  },
  {
   "cell_type": "code",
   "execution_count": 90,
   "metadata": {
    "collapsed": false
   },
   "outputs": [
    {
     "data": {
      "text/plain": [
       "[0, 1, 3, 6, 10, 15, 21, 28, 36, 45, 55, 66, 78, 91, 105, 120]"
      ]
     },
     "execution_count": 90,
     "metadata": {},
     "output_type": "execute_result"
    }
   ],
   "source": [
    "def blelloch(array, op , start):\n",
    "    \"\"\"Exclusive Scan. Only works on arrays that are powers of 2...\"\"\"\n",
    "    n = len(array)\n",
    "    s = 0\n",
    "    out = array[:]\n",
    "    shift = 1<<s\n",
    "    while(shift < n):\n",
    "        for thread in range(n//(shift*2)):\n",
    "            index = 2*shift + (2*shift)*thread -1\n",
    "            out[index] = op(array[index], array[index - shift])\n",
    "        array = out[:]\n",
    "        s += 1\n",
    "        shift = 1<<s\n",
    "        \n",
    "    array[n-1] = 0 \n",
    "    out = array[:]\n",
    "    while(s >= 0): #we seem to be looping one too many times...\n",
    "        shift = 1<<s\n",
    "        for thread in range(n//(shift*2)): \n",
    "            index = 2*shift + (2*shift)*thread -1\n",
    "            temp = out[index]\n",
    "            out[index] = op(array[index], array[index - shift])\n",
    "            out[index - shift] = temp\n",
    "        array = out[:]\n",
    "        s -= 1  \n",
    "    return out    \n",
    "        \n",
    "blelloch(list(range(1,17)), myPlus, 0)        "
   ]
  },
  {
   "cell_type": "code",
   "execution_count": null,
   "metadata": {
    "collapsed": true
   },
   "outputs": [],
   "source": []
  }
 ],
 "metadata": {
  "kernelspec": {
   "display_name": "Python 3",
   "language": "python",
   "name": "python3"
  },
  "language_info": {
   "codemirror_mode": {
    "name": "ipython",
    "version": 3
   },
   "file_extension": ".py",
   "mimetype": "text/x-python",
   "name": "python",
   "nbconvert_exporter": "python",
   "pygments_lexer": "ipython3",
   "version": "3.4.1"
  }
 },
 "nbformat": 4,
 "nbformat_minor": 0
}
