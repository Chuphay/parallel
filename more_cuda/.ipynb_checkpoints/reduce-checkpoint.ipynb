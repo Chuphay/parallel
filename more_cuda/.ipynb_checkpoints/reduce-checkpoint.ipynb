{
 "cells": [
  {
   "cell_type": "code",
   "execution_count": 2,
   "metadata": {
    "collapsed": false
   },
   "outputs": [
    {
     "data": {
      "text/plain": [
       "10"
      ]
     },
     "execution_count": 2,
     "metadata": {},
     "output_type": "execute_result"
    }
   ],
   "source": [
    "def firstReduce(array, op, start):\n",
    "    out = start\n",
    "    for x in array:\n",
    "        out = op(x, out)\n",
    "    return out\n",
    "\n",
    "def myPlus(a,b):\n",
    "    return a + b\n",
    "\n",
    "x = [1,2,3,4]\n",
    "firstReduce(x, myPlus, 0)"
   ]
  },
  {
   "cell_type": "code",
   "execution_count": 15,
   "metadata": {
    "collapsed": false
   },
   "outputs": [
    {
     "data": {
      "text/plain": [
       "15"
      ]
     },
     "execution_count": 15,
     "metadata": {},
     "output_type": "execute_result"
    }
   ],
   "source": [
    "def divideConquerReduce(array, op):\n",
    "    n = len(array)\n",
    "    if(n < 2):\n",
    "        raise IndexError(\"Need at least two elements.\")\n",
    "    if(n == 2):\n",
    "        return op(array[0], array[1])\n",
    "    if(n == 3):\n",
    "        return op(array[0], op(array[1], array[2]))\n",
    "    else:\n",
    "        return op(divideConquerReduce(array[:n//2],op), divideConquerReduce(array[n//2:],op))\n",
    "\n",
    "divideConquerReduce([1, 2 ,3, 4 , 5], myPlus)                  "
   ]
  },
  {
   "cell_type": "code",
   "execution_count": 50,
   "metadata": {
    "collapsed": false
   },
   "outputs": [
    {
     "data": {
      "text/plain": [
       "45"
      ]
     },
     "execution_count": 50,
     "metadata": {},
     "output_type": "execute_result"
    }
   ],
   "source": [
    "def parallelReduce(array, op):\n",
    "    n = s = len(array)\n",
    "    while(s>0):\n",
    "        if(s%2 != 0 and s > 1):\n",
    "            array[0] = op(array[0], array[s-1])           \n",
    "        s = s//2    \n",
    "        for thread in range(n//2):\n",
    "            if(thread<s):\n",
    "                array[thread] = op(array[thread], array[thread + s])\n",
    "        \n",
    "    return array[0]\n",
    "        \n",
    "parallelReduce([1,2,3,4,5,6,7,8,9], myPlus)        "
   ]
  },
  {
   "cell_type": "code",
   "execution_count": null,
   "metadata": {
    "collapsed": true
   },
   "outputs": [],
   "source": []
  }
 ],
 "metadata": {
  "kernelspec": {
   "display_name": "Python 3",
   "language": "python",
   "name": "python3"
  },
  "language_info": {
   "codemirror_mode": {
    "name": "ipython",
    "version": 3
   },
   "file_extension": ".py",
   "mimetype": "text/x-python",
   "name": "python",
   "nbconvert_exporter": "python",
   "pygments_lexer": "ipython3",
   "version": "3.4.1"
  }
 },
 "nbformat": 4,
 "nbformat_minor": 0
}
