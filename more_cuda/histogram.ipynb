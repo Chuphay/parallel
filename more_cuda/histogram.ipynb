{
 "cells": [
  {
   "cell_type": "code",
   "execution_count": 2,
   "metadata": {
    "collapsed": false
   },
   "outputs": [
    {
     "name": "stdout",
     "output_type": "stream",
     "text": [
      "0\n",
      "1\n",
      "2\n",
      "3\n",
      "4\n"
     ]
    }
   ],
   "source": [
    "bins = [155,165,175,185]\n",
    "\n",
    "def getBin(num):\n",
    "    out = len(bins)\n",
    "    for i, b in enumerate(bins):\n",
    "        if(num<b):\n",
    "            out = i\n",
    "            break\n",
    "    return out        \n",
    "        \n",
    "print(getBin(150))     \n",
    "print(getBin(160))\n",
    "print(getBin(170))\n",
    "print(getBin(180))\n",
    "print(getBin(190))"
   ]
  },
  {
   "cell_type": "code",
   "execution_count": 3,
   "metadata": {
    "collapsed": false
   },
   "outputs": [
    {
     "data": {
      "text/plain": [
       "[62, 254, 393, 246, 69]"
      ]
     },
     "execution_count": 3,
     "metadata": {},
     "output_type": "execute_result"
    }
   ],
   "source": [
    "def serialHist(array):\n",
    "    out = [0 for i in range(len(bins)+1)]\n",
    "    for num in array:\n",
    "        out[getBin(num)] += 1    \n",
    "    return out\n",
    "\n",
    "import numpy as np\n",
    "values = np.random.normal(170,10,1024)\n",
    "serialHist(values)"
   ]
  },
  {
   "cell_type": "markdown",
   "metadata": {},
   "source": [
    "###Per-Thread Privatized (Local) Histograms, then Reduce\n",
    "\n",
    "128 items --- 8 threads --- 3 bins\n",
    "\n",
    "---> each thread gets 16 items\n",
    "\n",
    "each thread initializes 3 bins in local registers\n",
    "\n",
    "Then we need to use REDUCTION to combine these 8 local histograms into a single global histogram\n"
   ]
  },
  {
   "cell_type": "code",
   "execution_count": 23,
   "metadata": {
    "collapsed": false
   },
   "outputs": [],
   "source": [
    "def privateHist(array, numThreads):\n",
    "    n = len(array)\n",
    "    if(n%numThreads != 0):\n",
    "        raise IndexError(\"error, must evenly divide\")\n",
    "    blockSize = n//numThreads    \n",
    "    numBins = len(bins)+1\n",
    "    global_out = [[0 for i in range(numBins)]for j in range(numThreads)]\n",
    "    for i in range(numThreads):\n",
    "        privateHist = global_out[i]\n",
    "        for j in range(blockSize):\n",
    "            num = array[j+i*blockSize]\n",
    "            privateHist[getBin(num)] += 1\n",
    "    return global_out\n",
    "x = privateHist(values, 8)"
   ]
  },
  {
   "cell_type": "code",
   "execution_count": 31,
   "metadata": {
    "collapsed": false
   },
   "outputs": [
    {
     "data": {
      "text/plain": [
       "array([ 62, 254, 393, 246,  69])"
      ]
     },
     "execution_count": 31,
     "metadata": {},
     "output_type": "execute_result"
    }
   ],
   "source": [
    "x = np.array(x)\n",
    "x.sum(0)"
   ]
  },
  {
   "cell_type": "code",
   "execution_count": 29,
   "metadata": {
    "collapsed": false
   },
   "outputs": [
    {
     "data": {
      "text/plain": [
       "[62, 254, 393, 246, 69]"
      ]
     },
     "execution_count": 29,
     "metadata": {},
     "output_type": "execute_result"
    }
   ],
   "source": [
    "def myReduce(array):\n",
    "    n = len(array)\n",
    "    out = [i for i in array]\n",
    "    s = 0\n",
    "    shift = 1<<s\n",
    "    while(shift<n):\n",
    "        s += 1\n",
    "        for i in range(n//(2*s)):\n",
    "            out[2*s*i] = out[2*s*i]+out[2*s*i+shift]\n",
    "        shift = 1<<s\n",
    "    return out[0]\n",
    "    \n",
    "[myReduce(x[:,i]) for i in range(len(bins)+1)]  \n"
   ]
  },
  {
   "cell_type": "code",
   "execution_count": null,
   "metadata": {
    "collapsed": true
   },
   "outputs": [],
   "source": []
  }
 ],
 "metadata": {
  "kernelspec": {
   "display_name": "Python 3",
   "language": "python",
   "name": "python3"
  },
  "language_info": {
   "codemirror_mode": {
    "name": "ipython",
    "version": 3
   },
   "file_extension": ".py",
   "mimetype": "text/x-python",
   "name": "python",
   "nbconvert_exporter": "python",
   "pygments_lexer": "ipython3",
   "version": "3.4.1"
  }
 },
 "nbformat": 4,
 "nbformat_minor": 0
}
