{
 "metadata": {
  "name": "",
  "signature": "sha256:a8fdca2ad17b7e68f49b7c2a4facaebc65c76e6b0ebc60d8f5a0cecca4be8d4e"
 },
 "nbformat": 3,
 "nbformat_minor": 0,
 "worksheets": [
  {
   "cells": [
    {
     "cell_type": "heading",
     "level": 1,
     "metadata": {},
     "source": [
      "Homework #1"
     ]
    },
    {
     "cell_type": "markdown",
     "metadata": {},
     "source": [
      "I'm using iPython to write this pdf. What that means is that my original code is actually available for inspection. If you go to this [site](http://nbviewer.ipython.org/github/Chuphay/parallel/blob/master/Homework_1.ipynb) you can click the link below to view the raw python code. However, I've hidden it for easier reading in case you are not interested in looking at my python code."
     ]
    },
    {
     "cell_type": "code",
     "collapsed": false,
     "input": [
      "from IPython.display import HTML\n",
      "def hide():\n",
      "    \"\"\"I found the code for this feature here: http://blog.nextgenetics.net/?e=102\"\"\"\n",
      "    return HTML('''<script>\n",
      "code_show=true; \n",
      "function code_toggle() {\n",
      " if (code_show){\n",
      " $('div.input').hide();\n",
      " $('div.output_prompt').hide();\n",
      " } else {\n",
      " $('div.input').show();\n",
      " $('div.output_prompt').show();\n",
      " }\n",
      " code_show = !code_show\n",
      "} \n",
      "$( document ).ready(code_toggle);\n",
      "</script>\n",
      "<p>To toggle on/off the raw code, click <a href=\"javascript:code_toggle()\">here</a>.</p>\n",
      "''')\n",
      "hide()"
     ],
     "language": "python",
     "metadata": {},
     "outputs": [
      {
       "html": [
        "<script>\n",
        "code_show=true; \n",
        "function code_toggle() {\n",
        " if (code_show){\n",
        " $('div.input').hide();\n",
        " $('div.output_prompt').hide();\n",
        " } else {\n",
        " $('div.input').show();\n",
        " $('div.output_prompt').show();\n",
        " }\n",
        " code_show = !code_show\n",
        "} \n",
        "$( document ).ready(code_toggle);\n",
        "</script>\n",
        "<p>To toggle on/off the raw code, click <a href=\"javascript:code_toggle()\">here</a>.</p>\n"
       ],
       "metadata": {},
       "output_type": "pyout",
       "prompt_number": 35,
       "text": [
        "<IPython.core.display.HTML at 0xad9fe60c>"
       ]
      }
     ],
     "prompt_number": 35
    },
    {
     "cell_type": "code",
     "collapsed": false,
     "input": [
      "%pylab inline\n",
      "from pandas import DataFrame"
     ],
     "language": "python",
     "metadata": {},
     "outputs": [
      {
       "output_type": "stream",
       "stream": "stdout",
       "text": [
        "Populating the interactive namespace from numpy and matplotlib\n"
       ]
      }
     ],
     "prompt_number": 1
    },
    {
     "cell_type": "markdown",
     "metadata": {},
     "source": [
      "Here is the raw data that I collected:"
     ]
    },
    {
     "cell_type": "code",
     "collapsed": false,
     "input": [
      "def parser(line, trig = False ):\n",
      "    info = []\n",
      "    if(trig):\n",
      "        info = line.split(',')[:10]\n",
      "        for e,i in enumerate(info):\n",
      "            if e == 0:\n",
      "                info[e] = float(i[2:7])\n",
      "            else:    \n",
      "                info[e] = float(i[3:8]) \n",
      "    else:\n",
      "        info = line.split(',')[:10]\n",
      "        for e,i in enumerate(info):\n",
      "            info[e] = float(i)            \n",
      "    return info            \n",
      "    \n",
      "\n",
      "file_name = 'hw1/speed_O{0}_{1}.txt'\n",
      "hosts = ['trig', '336', 'home']\n",
      "all_data ={}\n",
      "for host in hosts:\n",
      "    for i in range(4):\n",
      "        my_file = file_name.format(str(i),host)\n",
      "        f = open(my_file)\n",
      "        trig = False\n",
      "        if host == 'trig':\n",
      "            trig = True\n",
      "        data = {}\n",
      "        previous_line =''\n",
      "        for line in f:\n",
      "            #print(line)\n",
      "            if(previous_line == 'system\\n'):\n",
      "                data['system'] = parser(line, trig)\n",
      "            if(previous_line == 'user\\n'):       \n",
      "                data['user'] = parser(line, trig)\n",
      "            if(previous_line == 'elapsed\\n'):     \n",
      "                data['elapsed'] = parser(line, trig)\n",
      "            previous_line = line    \n",
      "\n",
      "        all_data[my_file[10:-4]] = data\n",
      "my_data = DataFrame(all_data)"
     ],
     "language": "python",
     "metadata": {},
     "outputs": [],
     "prompt_number": 2
    },
    {
     "cell_type": "code",
     "collapsed": false,
     "input": [
      "my_data.T"
     ],
     "language": "python",
     "metadata": {},
     "outputs": [
      {
       "html": [
        "<div style=\"max-height:1000px;max-width:1500px;overflow:auto;\">\n",
        "<table border=\"1\" class=\"dataframe\">\n",
        "  <thead>\n",
        "    <tr style=\"text-align: right;\">\n",
        "      <th></th>\n",
        "      <th>elapsed</th>\n",
        "      <th>system</th>\n",
        "      <th>user</th>\n",
        "    </tr>\n",
        "  </thead>\n",
        "  <tbody>\n",
        "    <tr>\n",
        "      <th>O0_336</th>\n",
        "      <td> [2.18, 2.18, 2.18, 2.18, 2.18, 2.18, 2.18, 2.1...</td>\n",
        "      <td> [0.0, 0.0, 0.0, 0.0, 0.0, 0.0, 0.0, 0.0, 0.0, ...</td>\n",
        "      <td> [2.17, 2.17, 2.17, 2.17, 2.17, 2.16, 2.17, 2.1...</td>\n",
        "    </tr>\n",
        "    <tr>\n",
        "      <th>O0_home</th>\n",
        "      <td> [1.63, 1.63, 1.63, 1.63, 1.63, 1.63, 1.63, 1.6...</td>\n",
        "      <td> [0.0, 0.0, 0.0, 0.0, 0.0, 0.0, 0.0, 0.0, 0.0, ...</td>\n",
        "      <td> [1.63, 1.63, 1.63, 1.63, 1.63, 1.63, 1.63, 1.6...</td>\n",
        "    </tr>\n",
        "    <tr>\n",
        "      <th>O0_trig</th>\n",
        "      <td> [4.868, 4.527, 4.456, 4.518, 4.666, 4.965, 4.4...</td>\n",
        "      <td> [0.0, 0.01, 0.01, 0.01, 0.0, 0.01, 0.0, 0.0, 0...</td>\n",
        "      <td> [4.809, 4.439, 4.399, 4.429, 4.569, 4.899, 4.3...</td>\n",
        "    </tr>\n",
        "    <tr>\n",
        "      <th>O1_336</th>\n",
        "      <td> [1.0, 1.01, 1.01, 1.0, 1.0, 1.01, 1.0, 1.01, 1...</td>\n",
        "      <td> [0.0, 0.0, 0.0, 0.0, 0.0, 0.0, 0.0, 0.0, 0.0, ...</td>\n",
        "      <td> [0.99, 1.0, 1.0, 1.0, 0.99, 1.0, 0.99, 0.99, 1...</td>\n",
        "    </tr>\n",
        "    <tr>\n",
        "      <th>O1_home</th>\n",
        "      <td> [1.03, 1.03, 1.03, 1.03, 1.03, 1.03, 1.03, 1.0...</td>\n",
        "      <td> [0.0, 0.0, 0.0, 0.0, 0.0, 0.0, 0.0, 0.0, 0.0, ...</td>\n",
        "      <td> [1.03, 1.03, 1.03, 1.03, 1.02, 1.04, 1.03, 1.0...</td>\n",
        "    </tr>\n",
        "    <tr>\n",
        "      <th>O1_trig</th>\n",
        "      <td> [2.101, 1.847, 1.886, 2.074, 1.892, 2.164, 2.7...</td>\n",
        "      <td> [0.0, 0.01, 0.0, 0.0, 0.01, 0.01, 0.0, 0.01, 0...</td>\n",
        "      <td> [2.03, 1.82, 1.82, 2.01, 1.82, 2.09, 2.65, 2.1...</td>\n",
        "    </tr>\n",
        "    <tr>\n",
        "      <th>O2_336</th>\n",
        "      <td> [0.75, 0.75, 0.75, 0.76, 0.75, 0.75, 0.75, 0.7...</td>\n",
        "      <td> [0.0, 0.0, 0.0, 0.0, 0.0, 0.0, 0.0, 0.0, 0.0, ...</td>\n",
        "      <td> [0.74, 0.74, 0.74, 0.74, 0.74, 0.74, 0.74, 0.7...</td>\n",
        "    </tr>\n",
        "    <tr>\n",
        "      <th>O2_home</th>\n",
        "      <td> [0.66, 0.66, 0.66, 0.66, 0.66, 0.66, 0.66, 0.6...</td>\n",
        "      <td> [0.0, 0.0, 0.0, 0.0, 0.0, 0.0, 0.0, 0.0, 0.0, ...</td>\n",
        "      <td> [0.66, 0.66, 0.66, 0.66, 0.66, 0.66, 0.66, 0.6...</td>\n",
        "    </tr>\n",
        "    <tr>\n",
        "      <th>O2_trig</th>\n",
        "      <td> [2.013, 1.8, 1.801, 1.791, 2.085, 1.801, 2.235...</td>\n",
        "      <td> [0.0, 0.0, 0.01, 0.0, 0.01, 0.01, 0.0, 0.01, 0...</td>\n",
        "      <td> [1.94, 1.73, 1.73, 1.74, 2.02, 1.73, 2.16, 1.7...</td>\n",
        "    </tr>\n",
        "    <tr>\n",
        "      <th>O3_336</th>\n",
        "      <td> [0.75, 0.74, 0.75, 0.75, 0.75, 0.75, 0.75, 0.7...</td>\n",
        "      <td> [0.0, 0.0, 0.0, 0.0, 0.0, 0.0, 0.0, 0.0, 0.0, ...</td>\n",
        "      <td> [0.73, 0.74, 0.74, 0.74, 0.74, 0.74, 0.74, 0.7...</td>\n",
        "    </tr>\n",
        "    <tr>\n",
        "      <th>O3_home</th>\n",
        "      <td> [0.63, 0.63, 0.63, 0.63, 0.63, 0.64, 0.63, 0.6...</td>\n",
        "      <td> [0.0, 0.0, 0.0, 0.0, 0.0, 0.0, 0.0, 0.0, 0.0, ...</td>\n",
        "      <td> [0.63, 0.63, 0.64, 0.64, 0.63, 0.64, 0.63, 0.6...</td>\n",
        "    </tr>\n",
        "    <tr>\n",
        "      <th>O3_trig</th>\n",
        "      <td> [1.335, 1.348, 1.305, 1.173, 1.175, 1.418, 1.1...</td>\n",
        "      <td> [0.0, 0.0, 0.0, 0.0, 0.01, 0.01, 0.01, 0.01, 0...</td>\n",
        "      <td> [1.28, 1.3, 1.29, 1.12, 1.12, 1.36, 1.12, 1.12...</td>\n",
        "    </tr>\n",
        "  </tbody>\n",
        "</table>\n",
        "</div>"
       ],
       "metadata": {},
       "output_type": "pyout",
       "prompt_number": 3,
       "text": [
        "                                                   elapsed  \\\n",
        "O0_336   [2.18, 2.18, 2.18, 2.18, 2.18, 2.18, 2.18, 2.1...   \n",
        "O0_home  [1.63, 1.63, 1.63, 1.63, 1.63, 1.63, 1.63, 1.6...   \n",
        "O0_trig  [4.868, 4.527, 4.456, 4.518, 4.666, 4.965, 4.4...   \n",
        "O1_336   [1.0, 1.01, 1.01, 1.0, 1.0, 1.01, 1.0, 1.01, 1...   \n",
        "O1_home  [1.03, 1.03, 1.03, 1.03, 1.03, 1.03, 1.03, 1.0...   \n",
        "O1_trig  [2.101, 1.847, 1.886, 2.074, 1.892, 2.164, 2.7...   \n",
        "O2_336   [0.75, 0.75, 0.75, 0.76, 0.75, 0.75, 0.75, 0.7...   \n",
        "O2_home  [0.66, 0.66, 0.66, 0.66, 0.66, 0.66, 0.66, 0.6...   \n",
        "O2_trig  [2.013, 1.8, 1.801, 1.791, 2.085, 1.801, 2.235...   \n",
        "O3_336   [0.75, 0.74, 0.75, 0.75, 0.75, 0.75, 0.75, 0.7...   \n",
        "O3_home  [0.63, 0.63, 0.63, 0.63, 0.63, 0.64, 0.63, 0.6...   \n",
        "O3_trig  [1.335, 1.348, 1.305, 1.173, 1.175, 1.418, 1.1...   \n",
        "\n",
        "                                                    system  \\\n",
        "O0_336   [0.0, 0.0, 0.0, 0.0, 0.0, 0.0, 0.0, 0.0, 0.0, ...   \n",
        "O0_home  [0.0, 0.0, 0.0, 0.0, 0.0, 0.0, 0.0, 0.0, 0.0, ...   \n",
        "O0_trig  [0.0, 0.01, 0.01, 0.01, 0.0, 0.01, 0.0, 0.0, 0...   \n",
        "O1_336   [0.0, 0.0, 0.0, 0.0, 0.0, 0.0, 0.0, 0.0, 0.0, ...   \n",
        "O1_home  [0.0, 0.0, 0.0, 0.0, 0.0, 0.0, 0.0, 0.0, 0.0, ...   \n",
        "O1_trig  [0.0, 0.01, 0.0, 0.0, 0.01, 0.01, 0.0, 0.01, 0...   \n",
        "O2_336   [0.0, 0.0, 0.0, 0.0, 0.0, 0.0, 0.0, 0.0, 0.0, ...   \n",
        "O2_home  [0.0, 0.0, 0.0, 0.0, 0.0, 0.0, 0.0, 0.0, 0.0, ...   \n",
        "O2_trig  [0.0, 0.0, 0.01, 0.0, 0.01, 0.01, 0.0, 0.01, 0...   \n",
        "O3_336   [0.0, 0.0, 0.0, 0.0, 0.0, 0.0, 0.0, 0.0, 0.0, ...   \n",
        "O3_home  [0.0, 0.0, 0.0, 0.0, 0.0, 0.0, 0.0, 0.0, 0.0, ...   \n",
        "O3_trig  [0.0, 0.0, 0.0, 0.0, 0.01, 0.01, 0.01, 0.01, 0...   \n",
        "\n",
        "                                                      user  \n",
        "O0_336   [2.17, 2.17, 2.17, 2.17, 2.17, 2.16, 2.17, 2.1...  \n",
        "O0_home  [1.63, 1.63, 1.63, 1.63, 1.63, 1.63, 1.63, 1.6...  \n",
        "O0_trig  [4.809, 4.439, 4.399, 4.429, 4.569, 4.899, 4.3...  \n",
        "O1_336   [0.99, 1.0, 1.0, 1.0, 0.99, 1.0, 0.99, 0.99, 1...  \n",
        "O1_home  [1.03, 1.03, 1.03, 1.03, 1.02, 1.04, 1.03, 1.0...  \n",
        "O1_trig  [2.03, 1.82, 1.82, 2.01, 1.82, 2.09, 2.65, 2.1...  \n",
        "O2_336   [0.74, 0.74, 0.74, 0.74, 0.74, 0.74, 0.74, 0.7...  \n",
        "O2_home  [0.66, 0.66, 0.66, 0.66, 0.66, 0.66, 0.66, 0.6...  \n",
        "O2_trig  [1.94, 1.73, 1.73, 1.74, 2.02, 1.73, 2.16, 1.7...  \n",
        "O3_336   [0.73, 0.74, 0.74, 0.74, 0.74, 0.74, 0.74, 0.7...  \n",
        "O3_home  [0.63, 0.63, 0.64, 0.64, 0.63, 0.64, 0.63, 0.6...  \n",
        "O3_trig  [1.28, 1.3, 1.29, 1.12, 1.12, 1.36, 1.12, 1.12...  "
       ]
      }
     ],
     "prompt_number": 3
    },
    {
     "cell_type": "heading",
     "level": 3,
     "metadata": {},
     "source": [
      "Lenovo X230"
     ]
    },
    {
     "cell_type": "markdown",
     "metadata": {},
     "source": [
      "This is my own laptop. The architecture is i686, it has 4 CPUs, with a CPU clock at 1,200 MHz. Apparently there are 4 caches:\n",
      "\n",
      "L1d cache: 32K\n",
      "\n",
      "L1i cache: 32K\n",
      "\n",
      "L2 cache: 256K\n",
      "\n",
      "L3 cache: 3072K\n",
      "\n",
      "Running the various compiled programs with different compiler optimization flags gives us a good understanding of how much speed optimization can give us. \n",
      "\n",
      "The four tests I performed had fairly consistent run times. For example, here is the elapsed time with full optimization over 10 runs:"
     ]
    },
    {
     "cell_type": "code",
     "collapsed": false,
     "input": [
      "my_data['O3_home']['elapsed']"
     ],
     "language": "python",
     "metadata": {},
     "outputs": [
      {
       "metadata": {},
       "output_type": "pyout",
       "prompt_number": 8,
       "text": [
        "[0.63, 0.63, 0.63, 0.63, 0.63, 0.64, 0.63, 0.64, 0.63, 0.64]"
       ]
      }
     ],
     "prompt_number": 8
    },
    {
     "cell_type": "markdown",
     "metadata": {},
     "source": [
      "As you can see, there was very little variaton between the runs. Because of this the standard deviation will be very small. Instead of worrying too much about the standar deviation, I will just supply the mean elapsed time of the four different compilation options:\n"
     ]
    },
    {
     "cell_type": "code",
     "collapsed": false,
     "input": [
      "print(\"Elapsed time, optimization -O0 :\" ,mean(my_data['O0_home']['elapsed']))\n",
      "print(\"Elapsed time, optimization -O1 :\" ,mean(my_data['O1_home']['elapsed']))\n",
      "print(\"Elapsed time, optimization -O2 :\" ,mean(my_data['O2_home']['elapsed']))\n",
      "print(\"Elapsed time, optimization -O3 :\" ,mean(my_data['O3_home']['elapsed']))"
     ],
     "language": "python",
     "metadata": {},
     "outputs": [
      {
       "output_type": "stream",
       "stream": "stdout",
       "text": [
        "Elapsed time, optimization -O0 : 1.63\n",
        "Elapsed time, optimization -O1 : 1.03\n",
        "Elapsed time, optimization -O2 : 0.66\n",
        "Elapsed time, optimization -O3 : 0.633\n"
       ]
      }
     ],
     "prompt_number": 11
    },
    {
     "cell_type": "heading",
     "level": 3,
     "metadata": {},
     "source": [
      "336 Machine"
     ]
    },
    {
     "cell_type": "markdown",
     "metadata": {},
     "source": [
      "The 336 machines have an x86_64 architecture with 4 CPUs running at 2800.197 MHz. Apparently there was also 4 caches:\n",
      "\n",
      "L1d cache:             32K\n",
      "\n",
      "L1i cache:             32K\n",
      "\n",
      "L2 cache:              256K\n",
      "\n",
      "L3 cache:              8192K\n",
      "\n",
      "Similar to my machine, the 336 machines also had very little variation between the various runs. So again I will just print the elapsed mean time for the elapsed time:  "
     ]
    },
    {
     "cell_type": "code",
     "collapsed": false,
     "input": [
      "print(\"Elapsed time, optimization -O0 :\" ,mean(my_data['O0_336']['elapsed']))\n",
      "print(\"Elapsed time, optimization -O1 :\" ,mean(my_data['O1_336']['elapsed']))\n",
      "print(\"Elapsed time, optimization -O2 :\" ,mean(my_data['O2_336']['elapsed']))\n",
      "print(\"Elapsed time, optimization -O3 :\" ,mean(my_data['O3_336']['elapsed']))"
     ],
     "language": "python",
     "metadata": {},
     "outputs": [
      {
       "output_type": "stream",
       "stream": "stdout",
       "text": [
        "Elapsed time, optimization -O0 : 2.186\n",
        "Elapsed time, optimization -O1 : 1.004\n",
        "Elapsed time, optimization -O2 : 0.751\n",
        "Elapsed time, optimization -O3 : 0.748\n"
       ]
      }
     ],
     "prompt_number": 14
    },
    {
     "cell_type": "markdown",
     "metadata": {},
     "source": [
      "As we can see, these machines run a little bit slower than my laptop. Also, just as with my machine there is not too much difference between the -O2 optimization and the -O3 optimization."
     ]
    },
    {
     "cell_type": "heading",
     "level": 3,
     "metadata": {},
     "source": [
      "Trig"
     ]
    },
    {
     "cell_type": "markdown",
     "metadata": {},
     "source": [
      "Finally, we come to the algebra machines. I ended up doing my tests on the trig machine in particular. Strangely, everything worked differently on this machine versus both my machine and the 336 machines. Printing the specs of the machine outputed strange output, and even running the time command gave me output in a different format from the other machines... :/\n",
      "\n",
      "The CPU is a Quad-Core AMD Opteron(tm) Processor 2384, running at 2700.096 MHz. \n",
      "\n",
      "I was a bit baffled by the cache sizes, but was eventually able to get the following information:\n",
      "\n",
      "cache size\t: 512 KB\n",
      "\n",
      "L1 I Cache: 64K (64 bytes/line)\n",
      "\n",
      "D cache: 64K (64 bytes/line)\n",
      "\n",
      "Unlike the other machines, there was actually quite a bit of variation between the runs, so here I will print out some more solid statistics: \n",
      "\n"
     ]
    },
    {
     "cell_type": "code",
     "collapsed": false,
     "input": [
      "from pandas import Series\n",
      "print(\"Optimization -O0:\")\n",
      "Series(my_data['O0_trig']['elapsed']).describe()"
     ],
     "language": "python",
     "metadata": {},
     "outputs": [
      {
       "output_type": "stream",
       "stream": "stdout",
       "text": [
        "Optimization -O0:\n"
       ]
      },
      {
       "metadata": {},
       "output_type": "pyout",
       "prompt_number": 29,
       "text": [
        "count    10.000000\n",
        "mean      4.638600\n",
        "std       0.188041\n",
        "min       4.452000\n",
        "25%       4.472250\n",
        "50%       4.596500\n",
        "75%       4.774250\n",
        "max       4.965000\n",
        "dtype: float64"
       ]
      }
     ],
     "prompt_number": 29
    },
    {
     "cell_type": "code",
     "collapsed": false,
     "input": [
      "print(\"Optimization -O1:\")\n",
      "Series(my_data['O1_trig']['elapsed']).describe()"
     ],
     "language": "python",
     "metadata": {},
     "outputs": [
      {
       "output_type": "stream",
       "stream": "stdout",
       "text": [
        "Optimization -O1:\n"
       ]
      },
      {
       "metadata": {},
       "output_type": "pyout",
       "prompt_number": 31,
       "text": [
        "count    10.000000\n",
        "mean      2.067400\n",
        "std       0.268566\n",
        "min       1.847000\n",
        "25%       1.887250\n",
        "50%       1.983000\n",
        "75%       2.148250\n",
        "max       2.710000\n",
        "dtype: float64"
       ]
      }
     ],
     "prompt_number": 31
    },
    {
     "cell_type": "code",
     "collapsed": false,
     "input": [
      "print(\"Optimization -O2:\")\n",
      "Series(my_data['O2_trig']['elapsed']).describe()"
     ],
     "language": "python",
     "metadata": {},
     "outputs": [
      {
       "output_type": "stream",
       "stream": "stdout",
       "text": [
        "Optimization -O2:\n"
       ]
      },
      {
       "metadata": {},
       "output_type": "pyout",
       "prompt_number": 33,
       "text": [
        "count    10.000000\n",
        "mean      1.920100\n",
        "std       0.165393\n",
        "min       1.791000\n",
        "25%       1.801000\n",
        "50%       1.801000\n",
        "75%       2.058000\n",
        "max       2.235000\n",
        "dtype: float64"
       ]
      }
     ],
     "prompt_number": 33
    },
    {
     "cell_type": "code",
     "collapsed": false,
     "input": [
      "print(\"Optimization -O3:\")\n",
      "Series(my_data['O3_trig']['elapsed']).describe()"
     ],
     "language": "python",
     "metadata": {},
     "outputs": [
      {
       "output_type": "stream",
       "stream": "stdout",
       "text": [
        "Optimization -O3:\n"
       ]
      },
      {
       "metadata": {},
       "output_type": "pyout",
       "prompt_number": 34,
       "text": [
        "count    10.000000\n",
        "mean      1.241500\n",
        "std       0.099365\n",
        "min       1.135000\n",
        "25%       1.175000\n",
        "50%       1.175500\n",
        "75%       1.327500\n",
        "max       1.418000\n",
        "dtype: float64"
       ]
      }
     ],
     "prompt_number": 34
    },
    {
     "cell_type": "code",
     "collapsed": false,
     "input": [],
     "language": "python",
     "metadata": {},
     "outputs": []
    },
    {
     "cell_type": "markdown",
     "metadata": {},
     "source": [
      "I actually did run tests on the larger image file, but due to a lack of time on my part, I ended up not including the data in this analysis :("
     ]
    }
   ],
   "metadata": {}
  }
 ]
}