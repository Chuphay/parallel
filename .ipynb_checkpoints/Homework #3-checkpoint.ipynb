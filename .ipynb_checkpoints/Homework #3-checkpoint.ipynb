{
 "metadata": {
  "name": "",
  "signature": "sha256:f32a051d42de9399e4429351658ea6793223082398fff712d6f9930ff31a73c2"
 },
 "nbformat": 3,
 "nbformat_minor": 0,
 "worksheets": [
  {
   "cells": [
    {
     "cell_type": "heading",
     "level": 1,
     "metadata": {},
     "source": [
      "Homework #3"
     ]
    },
    {
     "cell_type": "markdown",
     "metadata": {},
     "source": [
      "This homework was really hard.\n",
      "\n",
      "And in the end I just got really tired of it. So it's going to be kind of an aborted attempt.\n",
      "\n",
      "I did get the CUDA code working correctly. You can change the number of blocks and the number of threads per block and still get correct behavior (although the number of threads multiplied by the number of blocks has to equal the number of masses). \n",
      "\n",
      "I should mention that in my quest to do this homework, I stripped the original code of all file I/O and I stripped it of C++ code as well.\n",
      "\n",
      "Instead of making binary files to create sound, I simply had the code print the location of the mid-point, so that I could make sure that the CUDA code and the original serial code were producing the same output. Below is a sample of the output:"
     ]
    },
    {
     "cell_type": "markdown",
     "metadata": {},
     "source": [
      "<b>\n",
      "y[NUM_MASSES/2] 1.000000  1.000000\n",
      "\n",
      "y[NUM_MASSES/2] 0.600040  0.600040\n",
      "\n",
      "</b><b>\n",
      "\n",
      "y[NUM_MASSES/2] 0.040112  0.040112</b><b>\n",
      "\n",
      "y[NUM_MASSES/2] -0.359840  -0.359840</b><b>\n",
      "\n",
      "y[NUM_MASSES/2] -0.407869  -0.407869</b><b>\n",
      "\n",
      "y[NUM_MASSES/2] -0.152608  -0.152608</b><b>\n",
      "\n",
      "y[NUM_MASSES/2] 0.172032  0.172032</b><b>\n",
      "\n",
      "y[NUM_MASSES/2] 0.322525  0.322525</b><b>\n",
      "\n",
      "y[NUM_MASSES/2] 0.212364  0.212364</b><b>\n",
      "\n",
      "y[NUM_MASSES/2] -0.045944  -0.045944</b><b>\n",
      "\n",
      "y[NUM_MASSES/2] -0.243441  -0.243441</b><b>\n",
      "\n",
      "y[NUM_MASSES/2] -0.237040  -0.237040</b><b>\n",
      "\n",
      "y[NUM_MASSES/2] -0.049417  -0.049417</b><b>\n",
      "\n",
      "y[NUM_MASSES/2] 0.161809  0.161808</b><b>\n",
      "\n",
      "y[NUM_MASSES/2] 0.233159  0.233158</b><b>\n",
      "\n",
      "y[NUM_MASSES/2] 0.119496  0.119496</b><b>\n",
      "\n",
      "y[NUM_MASSES/2] -0.079609  -0.079609</b><b>\n",
      "\n",
      "y[NUM_MASSES/2] -0.205132  -0.205132</b><b>\n",
      "\n",
      "y[NUM_MASSES/2] -0.164094  -0.164095</b><b>\n",
      "\n",
      "y[NUM_MASSES/2] 0.002631  0.002631\n",
      "\n",
      "</b>"
     ]
    },
    {
     "cell_type": "markdown",
     "metadata": {},
     "source": [
      "One thing that I noticed is that in the very last place of the float, there was some slight differences, for example in the numbers next from last, we have: -0.164094 -0.164095. I'm not sure what that is all about.\n",
      "\n",
      "To see the above code run, you can compile string2.cu .\n",
      "\n",
      "For speed tests, you can check string.cu . This has zero file I/O at all, and takes several command line arguments to run correctly."
     ]
    },
    {
     "cell_type": "code",
     "collapsed": false,
     "input": [],
     "language": "python",
     "metadata": {},
     "outputs": []
    }
   ],
   "metadata": {}
  }
 ]
}