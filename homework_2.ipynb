{
 "metadata": {
  "name": "",
  "signature": "sha256:4e14ff6365e74d6997554821b0aaa8086b7297194246349787e337ca9be0c0fa"
 },
 "nbformat": 3,
 "nbformat_minor": 0,
 "worksheets": [
  {
   "cells": [
    {
     "cell_type": "heading",
     "level": 1,
     "metadata": {},
     "source": [
      "Homework #2"
     ]
    },
    {
     "cell_type": "markdown",
     "metadata": {},
     "source": [
      "Our homework was to parallelize the bilateral filter program. This was the first time that I have actually read C++ code, so a lot of the code was rather criptic to me. What I ended up doing was parallelizing every for loop that I found, and checked whether the code ran faster or slower.\n",
      "\n",
      "I also tried out the collapse(2) command for nested loops, but always found that this ran slower than the regular omp parallel for.\n",
      "\n",
      "Also, in the function BilateralFilter::apply, there was a critical section. I tried three different approaches\n",
      "\n",
      "First I simply tried omp critical, but this was painfully slow.\n",
      "\n",
      "Then I tried omp atomic which worked quite well, and I was going to leave it like that, but \n",
      "\n",
      "Finally I tried using reduce, which sped things up about two-fold. So that's where I left it.\n",
      "\n",
      "I should also mention that I had to privatize one variable. I tried a few different ways of doing this, but the simple private command seemed to work best.\n",
      "\n",
      "Here's my data, running on my own laptop, using 4 threads:"
     ]
    },
    {
     "cell_type": "code",
     "collapsed": false,
     "input": [
      "from IPython.display import HTML\n",
      "def hide():\n",
      "    \"\"\"I found the code for this feature here: http://blog.nextgenetics.net/?e=102\"\"\"\n",
      "    return HTML('''<script>\n",
      "code_show=true; \n",
      "function code_toggle() {\n",
      " if (code_show){\n",
      " $('div.input').hide();\n",
      " $('div.output_prompt').hide();\n",
      " } else {\n",
      " $('div.input').show();\n",
      " $('div.output_prompt').show();\n",
      " }\n",
      " code_show = !code_show\n",
      "} \n",
      "$( document ).ready(code_toggle);\n",
      "</script>\n",
      "<p>To toggle on/off the raw code, click <a href=\"javascript:code_toggle()\">here</a>.</p>\n",
      "''')\n",
      "hide()"
     ],
     "language": "python",
     "metadata": {},
     "outputs": [
      {
       "html": [
        "<script>\n",
        "code_show=true; \n",
        "function code_toggle() {\n",
        " if (code_show){\n",
        " $('div.input').hide();\n",
        " $('div.output_prompt').hide();\n",
        " } else {\n",
        " $('div.input').show();\n",
        " $('div.output_prompt').show();\n",
        " }\n",
        " code_show = !code_show\n",
        "} \n",
        "$( document ).ready(code_toggle);\n",
        "</script>\n",
        "<p>To toggle on/off the raw code, click <a href=\"javascript:code_toggle()\">here</a>.</p>\n"
       ],
       "metadata": {},
       "output_type": "pyout",
       "prompt_number": 1,
       "text": [
        "<IPython.core.display.HTML at 0xb521824c>"
       ]
      }
     ],
     "prompt_number": 1
    },
    {
     "cell_type": "code",
     "collapsed": false,
     "input": [
      "def parser(line, trig = False ):\n",
      "    info = []\n",
      "    if(trig):\n",
      "        info = line.split(',')[:10]\n",
      "        for e,i in enumerate(info):\n",
      "            if e == 0:\n",
      "                info[e] = float(i[2:7])\n",
      "            else:    \n",
      "                info[e] = float(i[3:8]) \n",
      "    else:\n",
      "        info = line.split(',')[:10]\n",
      "        for e,i in enumerate(info):\n",
      "            info[e] = float(i)            \n",
      "    return info            \n",
      "    \n",
      "\n",
      "file_names = ['hw1/home_nova_no_omp.txt','hw1/home_nova_omp.txt']\n",
      "\n",
      "all_data ={}\n",
      "for i in range(2):\n",
      "    my_file = file_names[i]\n",
      "    f = open(my_file)\n",
      "    data = {}\n",
      "    previous_line =''\n",
      "    for line in f:\n",
      "        #print(line)\n",
      "        if(previous_line == 'system\\n'):\n",
      "            data['system'] = parser(line)\n",
      "        if(previous_line == 'user\\n'):       \n",
      "            data['user'] = parser(line)\n",
      "        if(previous_line == 'elapsed\\n'):     \n",
      "            data['elapsed'] = parser(line)\n",
      "        previous_line = line    \n",
      "    all_data[my_file[10:-4]] = data\n",
      "    \n",
      "from pandas import DataFrame    \n",
      "my_data = DataFrame(all_data)\n",
      "my_data"
     ],
     "language": "python",
     "metadata": {},
     "outputs": [
      {
       "html": [
        "<div style=\"max-height:1000px;max-width:1500px;overflow:auto;\">\n",
        "<table border=\"1\" class=\"dataframe\">\n",
        "  <thead>\n",
        "    <tr style=\"text-align: right;\">\n",
        "      <th></th>\n",
        "      <th>ova_no_omp</th>\n",
        "      <th>ova_omp</th>\n",
        "    </tr>\n",
        "  </thead>\n",
        "  <tbody>\n",
        "    <tr>\n",
        "      <th>elapsed</th>\n",
        "      <td> [0.63, 0.65, 0.64, 0.64, 0.63, 0.64, 0.63, 0.6...</td>\n",
        "      <td> [0.41, 0.39, 0.4, 0.39, 0.4, 0.4, 0.41, 0.4, 0...</td>\n",
        "    </tr>\n",
        "    <tr>\n",
        "      <th>system</th>\n",
        "      <td> [0.0, 0.0, 0.0, 0.0, 0.0, 0.0, 0.0, 0.0, 0.0, ...</td>\n",
        "      <td> [0.03, 0.01, 0.0, 0.0, 0.02, 0.01, 0.01, 0.02,...</td>\n",
        "    </tr>\n",
        "    <tr>\n",
        "      <th>user</th>\n",
        "      <td> [0.63, 0.64, 0.64, 0.64, 0.63, 0.64, 0.63, 0.6...</td>\n",
        "      <td> [1.49, 1.47, 1.48, 1.47, 1.51, 1.48, 1.51, 1.4...</td>\n",
        "    </tr>\n",
        "  </tbody>\n",
        "</table>\n",
        "</div>"
       ],
       "metadata": {},
       "output_type": "pyout",
       "prompt_number": 7,
       "text": [
        "                                                ova_no_omp  \\\n",
        "elapsed  [0.63, 0.65, 0.64, 0.64, 0.63, 0.64, 0.63, 0.6...   \n",
        "system   [0.0, 0.0, 0.0, 0.0, 0.0, 0.0, 0.0, 0.0, 0.0, ...   \n",
        "user     [0.63, 0.64, 0.64, 0.64, 0.63, 0.64, 0.63, 0.6...   \n",
        "\n",
        "                                                   ova_omp  \n",
        "elapsed  [0.41, 0.39, 0.4, 0.39, 0.4, 0.4, 0.41, 0.4, 0...  \n",
        "system   [0.03, 0.01, 0.0, 0.0, 0.02, 0.01, 0.01, 0.02,...  \n",
        "user     [1.49, 1.47, 1.48, 1.47, 1.51, 1.48, 1.51, 1.4...  "
       ]
      }
     ],
     "prompt_number": 7
    },
    {
     "cell_type": "markdown",
     "metadata": {},
     "source": [
      "Just like last homework, there was very little variation between the various runs. We do however notice that the openMP program, while having a faster elapsed time, actually has a slower user time. I am assuming that is because of overhead in setting up the threads and would probably be washed out on large problems.\n",
      "\n",
      "Finally, the speedup I was able to achieve was about $0.64/0.4 = 1.6$ which seems ok, but not splendid."
     ]
    }
   ],
   "metadata": {}
  }
 ]
}