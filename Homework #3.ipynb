{
 "metadata": {
  "name": "",
  "signature": "sha256:2c37842bc06005d27ce61af7f7be0b7080974473c5865be0d09c0761a3c0a55d"
 },
 "nbformat": 3,
 "nbformat_minor": 0,
 "worksheets": [
  {
   "cells": [
    {
     "cell_type": "heading",
     "level": 1,
     "metadata": {},
     "source": [
      "Homework #3"
     ]
    },
    {
     "cell_type": "markdown",
     "metadata": {},
     "source": [
      "I didn't get a chance to implement\n",
      "\n",
      "nvcc -o string string.cu\n",
      "\n",
      "\n",
      "y[NUM_MASSES/2] 1.000000  1.000000\n",
      "\n",
      "y[NUM_MASSES/2] 0.600040  0.600040\n",
      "\n",
      "y[NUM_MASSES/2] 0.040112  0.040112\n",
      "\n",
      "y[NUM_MASSES/2] -0.359840  -0.359840\n",
      "\n",
      "y[NUM_MASSES/2] -0.407869  -0.407869\n",
      "\n",
      "y[NUM_MASSES/2] -0.152608  -0.152608\n",
      "\n",
      "y[NUM_MASSES/2] 0.172032  0.172032\n",
      "\n",
      "y[NUM_MASSES/2] 0.322525  0.322525\n",
      "\n",
      "y[NUM_MASSES/2] 0.212364  0.212364\n",
      "\n",
      "y[NUM_MASSES/2] -0.045944  -0.045944\n",
      "\n",
      "y[NUM_MASSES/2] -0.243441  -0.243441\n",
      "\n",
      "y[NUM_MASSES/2] -0.237040  -0.237040\n",
      "\n",
      "y[NUM_MASSES/2] -0.049417  -0.049417\n",
      "\n",
      "y[NUM_MASSES/2] 0.161809  0.161808\n",
      "\n",
      "y[NUM_MASSES/2] 0.233159  0.233158\n",
      "\n",
      "y[NUM_MASSES/2] 0.119496  0.119496\n",
      "\n",
      "y[NUM_MASSES/2] -0.079609  -0.079609\n",
      "\n",
      "y[NUM_MASSES/2] -0.205132  -0.205132\n",
      "\n",
      "y[NUM_MASSES/2] -0.164094  -0.164095\n",
      "\n",
      "y[NUM_MASSES/2] 0.002631  0.002631\n"
     ]
    },
    {
     "cell_type": "code",
     "collapsed": false,
     "input": [],
     "language": "python",
     "metadata": {},
     "outputs": []
    }
   ],
   "metadata": {}
  }
 ]
}